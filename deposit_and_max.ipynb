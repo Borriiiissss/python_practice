{
  "nbformat": 4,
  "nbformat_minor": 0,
  "metadata": {
    "colab": {
      "provenance": [],
      "authorship_tag": "ABX9TyPLFsllJfetUIN5tXyJIrq7"
    },
    "kernelspec": {
      "name": "python3",
      "display_name": "Python 3"
    },
    "language_info": {
      "name": "python"
    }
  },
  "cells": [
    {
      "cell_type": "code",
      "execution_count": 58,
      "metadata": {
        "colab": {
          "base_uri": "https://localhost:8080/"
        },
        "id": "VGETXo0NttQf",
        "outputId": "8f0f7471-c35c-461d-88ee-2dabe8556792"
      },
      "outputs": [
        {
          "output_type": "stream",
          "name": "stdout",
          "text": [
            "введите сумму 10000\n",
            "[5.6, 5.9, 4.28, 4.0]\n",
            "money = 10000.0 deposit = [56000.0, 59000.0, 42800.0, 40000.0] \n",
            "Максимальная сумма, которую вы можете заработать — 59000.0 \n"
          ]
        }
      ],
      "source": [
        "per_cent = {'ТКБ': 5.6, 'СКБ': 5.9, 'ВТБ': 4.28, 'СБЕР': 4.0}\n",
        "money = float(input(\"введите сумму \"))\n",
        "deposit = list(per_cent.values())\n",
        "print (deposit)\n",
        "for i in range(len(deposit)):\n",
        "  deposit [i] = deposit[i] * money\n",
        "print (f'money = {money} deposit = {deposit} ')\n",
        "print (f'Максимальная сумма, которую вы можете заработать — {max(deposit)} ')"
      ]
    }
  ]
}